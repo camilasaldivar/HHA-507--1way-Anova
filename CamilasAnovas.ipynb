{
  "nbformat": 4,
  "nbformat_minor": 0,
  "metadata": {
    "colab": {
      "name": "CamilasAnovas.ipynb",
      "provenance": [],
      "collapsed_sections": [],
      "authorship_tag": "ABX9TyPzPuftun4rx8yXrxNZAYH9",
      "include_colab_link": true
    },
    "kernelspec": {
      "name": "python3",
      "display_name": "Python 3"
    },
    "language_info": {
      "name": "python"
    }
  },
  "cells": [
    {
      "cell_type": "markdown",
      "metadata": {
        "id": "view-in-github",
        "colab_type": "text"
      },
      "source": [
        "<a href=\"https://colab.research.google.com/github/camilasaldivar/HHA-507--1way-Anova/blob/main/CamilasAnovas.ipynb\" target=\"_parent\"><img src=\"https://colab.research.google.com/assets/colab-badge.svg\" alt=\"Open In Colab\"/></a>"
      ]
    },
    {
      "cell_type": "code",
      "metadata": {
        "id": "bycqJENQn2n5",
        "colab": {
          "base_uri": "https://localhost:8080/"
        },
        "outputId": "eb0b3a9e-0549-478e-b82c-805922d3595d"
      },
      "source": [
        "import pandas as pd\n",
        "import scipy.stats as stats\n",
        "import statsmodels.formula.api as smf\n",
        "from scipy.stats import f_oneway\n",
        "import matplotlib.pyplot as plt\n",
        "from scipy.stats import kurtosis, skew, bartlett\n",
        "import statsmodels.stats.multicomp as mc\n",
        "import numpy as np\n",
        "\n"
      ],
      "execution_count": null,
      "outputs": [
        {
          "output_type": "stream",
          "name": "stderr",
          "text": [
            "/usr/local/lib/python3.7/dist-packages/statsmodels/tools/_testing.py:19: FutureWarning: pandas.util.testing is deprecated. Use the functions in the public API at pandas.testing instead.\n",
            "  import pandas.util.testing as tm\n"
          ]
        }
      ]
    },
    {
      "cell_type": "code",
      "metadata": {
        "id": "W5jKveKtn9NN"
      },
      "source": [
        "df= pd.read_csv('healthcare-dataset-stroke-data.csv')\n"
      ],
      "execution_count": null,
      "outputs": []
    },
    {
      "cell_type": "code",
      "metadata": {
        "colab": {
          "base_uri": "https://localhost:8080/",
          "height": 507
        },
        "id": "e5Q_VYdtoSSq",
        "outputId": "f9d4dfe1-b3a8-4155-9466-d9b82e443e9c"
      },
      "source": [
        "df"
      ],
      "execution_count": null,
      "outputs": [
        {
          "output_type": "execute_result",
          "data": {
            "text/html": [
              "<div>\n",
              "<style scoped>\n",
              "    .dataframe tbody tr th:only-of-type {\n",
              "        vertical-align: middle;\n",
              "    }\n",
              "\n",
              "    .dataframe tbody tr th {\n",
              "        vertical-align: top;\n",
              "    }\n",
              "\n",
              "    .dataframe thead th {\n",
              "        text-align: right;\n",
              "    }\n",
              "</style>\n",
              "<table border=\"1\" class=\"dataframe\">\n",
              "  <thead>\n",
              "    <tr style=\"text-align: right;\">\n",
              "      <th></th>\n",
              "      <th>id</th>\n",
              "      <th>gender</th>\n",
              "      <th>age</th>\n",
              "      <th>hypertension</th>\n",
              "      <th>heart_disease</th>\n",
              "      <th>ever_married</th>\n",
              "      <th>work_type</th>\n",
              "      <th>Residence_type</th>\n",
              "      <th>avg_glucose_level</th>\n",
              "      <th>bmi</th>\n",
              "      <th>smoking_status</th>\n",
              "      <th>stroke</th>\n",
              "    </tr>\n",
              "  </thead>\n",
              "  <tbody>\n",
              "    <tr>\n",
              "      <th>0</th>\n",
              "      <td>9046</td>\n",
              "      <td>Male</td>\n",
              "      <td>67.0</td>\n",
              "      <td>0</td>\n",
              "      <td>1</td>\n",
              "      <td>Yes</td>\n",
              "      <td>Private</td>\n",
              "      <td>Urban</td>\n",
              "      <td>228.69</td>\n",
              "      <td>36.6</td>\n",
              "      <td>formerly smoked</td>\n",
              "      <td>1</td>\n",
              "    </tr>\n",
              "    <tr>\n",
              "      <th>1</th>\n",
              "      <td>51676</td>\n",
              "      <td>Female</td>\n",
              "      <td>61.0</td>\n",
              "      <td>0</td>\n",
              "      <td>0</td>\n",
              "      <td>Yes</td>\n",
              "      <td>Self-employed</td>\n",
              "      <td>Rural</td>\n",
              "      <td>202.21</td>\n",
              "      <td>NaN</td>\n",
              "      <td>never smoked</td>\n",
              "      <td>1</td>\n",
              "    </tr>\n",
              "    <tr>\n",
              "      <th>2</th>\n",
              "      <td>31112</td>\n",
              "      <td>Male</td>\n",
              "      <td>80.0</td>\n",
              "      <td>0</td>\n",
              "      <td>1</td>\n",
              "      <td>Yes</td>\n",
              "      <td>Private</td>\n",
              "      <td>Rural</td>\n",
              "      <td>105.92</td>\n",
              "      <td>32.5</td>\n",
              "      <td>never smoked</td>\n",
              "      <td>1</td>\n",
              "    </tr>\n",
              "    <tr>\n",
              "      <th>3</th>\n",
              "      <td>60182</td>\n",
              "      <td>Female</td>\n",
              "      <td>49.0</td>\n",
              "      <td>0</td>\n",
              "      <td>0</td>\n",
              "      <td>Yes</td>\n",
              "      <td>Private</td>\n",
              "      <td>Urban</td>\n",
              "      <td>171.23</td>\n",
              "      <td>34.4</td>\n",
              "      <td>smokes</td>\n",
              "      <td>1</td>\n",
              "    </tr>\n",
              "    <tr>\n",
              "      <th>4</th>\n",
              "      <td>1665</td>\n",
              "      <td>Female</td>\n",
              "      <td>79.0</td>\n",
              "      <td>1</td>\n",
              "      <td>0</td>\n",
              "      <td>Yes</td>\n",
              "      <td>Self-employed</td>\n",
              "      <td>Rural</td>\n",
              "      <td>174.12</td>\n",
              "      <td>24.0</td>\n",
              "      <td>never smoked</td>\n",
              "      <td>1</td>\n",
              "    </tr>\n",
              "    <tr>\n",
              "      <th>...</th>\n",
              "      <td>...</td>\n",
              "      <td>...</td>\n",
              "      <td>...</td>\n",
              "      <td>...</td>\n",
              "      <td>...</td>\n",
              "      <td>...</td>\n",
              "      <td>...</td>\n",
              "      <td>...</td>\n",
              "      <td>...</td>\n",
              "      <td>...</td>\n",
              "      <td>...</td>\n",
              "      <td>...</td>\n",
              "    </tr>\n",
              "    <tr>\n",
              "      <th>5105</th>\n",
              "      <td>18234</td>\n",
              "      <td>Female</td>\n",
              "      <td>80.0</td>\n",
              "      <td>1</td>\n",
              "      <td>0</td>\n",
              "      <td>Yes</td>\n",
              "      <td>Private</td>\n",
              "      <td>Urban</td>\n",
              "      <td>83.75</td>\n",
              "      <td>NaN</td>\n",
              "      <td>never smoked</td>\n",
              "      <td>0</td>\n",
              "    </tr>\n",
              "    <tr>\n",
              "      <th>5106</th>\n",
              "      <td>44873</td>\n",
              "      <td>Female</td>\n",
              "      <td>81.0</td>\n",
              "      <td>0</td>\n",
              "      <td>0</td>\n",
              "      <td>Yes</td>\n",
              "      <td>Self-employed</td>\n",
              "      <td>Urban</td>\n",
              "      <td>125.20</td>\n",
              "      <td>40.0</td>\n",
              "      <td>never smoked</td>\n",
              "      <td>0</td>\n",
              "    </tr>\n",
              "    <tr>\n",
              "      <th>5107</th>\n",
              "      <td>19723</td>\n",
              "      <td>Female</td>\n",
              "      <td>35.0</td>\n",
              "      <td>0</td>\n",
              "      <td>0</td>\n",
              "      <td>Yes</td>\n",
              "      <td>Self-employed</td>\n",
              "      <td>Rural</td>\n",
              "      <td>82.99</td>\n",
              "      <td>30.6</td>\n",
              "      <td>never smoked</td>\n",
              "      <td>0</td>\n",
              "    </tr>\n",
              "    <tr>\n",
              "      <th>5108</th>\n",
              "      <td>37544</td>\n",
              "      <td>Male</td>\n",
              "      <td>51.0</td>\n",
              "      <td>0</td>\n",
              "      <td>0</td>\n",
              "      <td>Yes</td>\n",
              "      <td>Private</td>\n",
              "      <td>Rural</td>\n",
              "      <td>166.29</td>\n",
              "      <td>25.6</td>\n",
              "      <td>formerly smoked</td>\n",
              "      <td>0</td>\n",
              "    </tr>\n",
              "    <tr>\n",
              "      <th>5109</th>\n",
              "      <td>44679</td>\n",
              "      <td>Female</td>\n",
              "      <td>44.0</td>\n",
              "      <td>0</td>\n",
              "      <td>0</td>\n",
              "      <td>Yes</td>\n",
              "      <td>Govt_job</td>\n",
              "      <td>Urban</td>\n",
              "      <td>85.28</td>\n",
              "      <td>26.2</td>\n",
              "      <td>Unknown</td>\n",
              "      <td>0</td>\n",
              "    </tr>\n",
              "  </tbody>\n",
              "</table>\n",
              "<p>5110 rows × 12 columns</p>\n",
              "</div>"
            ],
            "text/plain": [
              "         id  gender   age  ...   bmi   smoking_status stroke\n",
              "0      9046    Male  67.0  ...  36.6  formerly smoked      1\n",
              "1     51676  Female  61.0  ...   NaN     never smoked      1\n",
              "2     31112    Male  80.0  ...  32.5     never smoked      1\n",
              "3     60182  Female  49.0  ...  34.4           smokes      1\n",
              "4      1665  Female  79.0  ...  24.0     never smoked      1\n",
              "...     ...     ...   ...  ...   ...              ...    ...\n",
              "5105  18234  Female  80.0  ...   NaN     never smoked      0\n",
              "5106  44873  Female  81.0  ...  40.0     never smoked      0\n",
              "5107  19723  Female  35.0  ...  30.6     never smoked      0\n",
              "5108  37544    Male  51.0  ...  25.6  formerly smoked      0\n",
              "5109  44679  Female  44.0  ...  26.2          Unknown      0\n",
              "\n",
              "[5110 rows x 12 columns]"
            ]
          },
          "metadata": {},
          "execution_count": 7
        }
      ]
    },
    {
      "cell_type": "code",
      "metadata": {
        "id": "Zm3pvFYnOoDg"
      },
      "source": [
        "df['gender'] = df['gender'].replace(np.NaN, 'Other')    "
      ],
      "execution_count": null,
      "outputs": []
    },
    {
      "cell_type": "code",
      "metadata": {
        "colab": {
          "base_uri": "https://localhost:8080/"
        },
        "id": "XoMl3d8yPIOX",
        "outputId": "4811b15d-f29b-49a1-f63e-d05794ce8161"
      },
      "source": [
        "df.gender.value_counts()"
      ],
      "execution_count": null,
      "outputs": [
        {
          "output_type": "execute_result",
          "data": {
            "text/plain": [
              "Female    2994\n",
              "Male      2115\n",
              "Other        1\n",
              "Name: gender, dtype: int64"
            ]
          },
          "metadata": {},
          "execution_count": 69
        }
      ]
    },
    {
      "cell_type": "markdown",
      "metadata": {
        "id": "QguWyMQWpIF-"
      },
      "source": [
        "**IV**\n",
        "\n",
        "Gender: 3 parameters (female, male, other).\n",
        "-Work type: never worked, goverment job, private, children, self employed.-\n",
        "Smoking status: never smoked, formerly smoked, smokes \n"
      ]
    },
    {
      "cell_type": "markdown",
      "metadata": {
        "id": "8IY6TBCJwYqr"
      },
      "source": [
        "**DV-Continuos**\n",
        "\n",
        "Average glucose level\n"
      ]
    },
    {
      "cell_type": "markdown",
      "metadata": {
        "id": "ym4rQ5X6wqip"
      },
      "source": [
        "# **Assumptions**"
      ]
    },
    {
      "cell_type": "code",
      "metadata": {
        "id": "gb6x2eAZ4WL7",
        "colab": {
          "base_uri": "https://localhost:8080/"
        },
        "outputId": "b8983569-2f90-4f40-8cb8-8453a0397810"
      },
      "source": [
        "model = smf.ols(\"avg_glucose_level ~ C(gender)\", data = df).fit()\n",
        "stats.shapiro(model.resid)"
      ],
      "execution_count": null,
      "outputs": [
        {
          "output_type": "stream",
          "name": "stderr",
          "text": [
            "/usr/local/lib/python3.7/dist-packages/scipy/stats/morestats.py:1676: UserWarning: p-value may not be accurate for N > 5000.\n",
            "  warnings.warn(\"p-value may not be accurate for N > 5000.\")\n"
          ]
        },
        {
          "output_type": "execute_result",
          "data": {
            "text/plain": [
              "(0.8088995218276978, 0.0)"
            ]
          },
          "metadata": {},
          "execution_count": 27
        }
      ]
    },
    {
      "cell_type": "code",
      "metadata": {
        "colab": {
          "base_uri": "https://localhost:8080/"
        },
        "id": "XdY94fDz55_u",
        "outputId": "ed0d1331-aae9-4485-ea35-19dc0e78c623"
      },
      "source": [
        "model = smf.ols(\"avg_glucose_level ~ C(gender)\", data= df).fit()\n",
        "\n",
        "stats.kstest(model.resid, 'norm')"
      ],
      "execution_count": null,
      "outputs": [
        {
          "output_type": "execute_result",
          "data": {
            "text/plain": [
              "KstestResult(statistic=0.6470255561912177, pvalue=0.0)"
            ]
          },
          "metadata": {},
          "execution_count": 28
        }
      ]
    },
    {
      "cell_type": "markdown",
      "metadata": {
        "id": "iSBK-5yPNjGz"
      },
      "source": [
        "**Histograms**"
      ]
    },
    {
      "cell_type": "code",
      "metadata": {
        "id": "AORKuOYY79KT"
      },
      "source": [
        "gender1 = df[df['gender'] == 'Female']\n",
        "gender2 = df[df['gender'] == 'Male']\n",
        "gender3 = df[df['gender'] == 'Other']"
      ],
      "execution_count": null,
      "outputs": []
    },
    {
      "cell_type": "code",
      "metadata": {
        "colab": {
          "base_uri": "https://localhost:8080/",
          "height": 761
        },
        "id": "Ji-pk5Np8a7p",
        "outputId": "f13907da-bf9a-42f6-8f0d-aa8cf18c40be"
      },
      "source": [
        "plt.hist(gender1['avg_glucose_level'])\n",
        "plt.show()\n",
        "\n",
        "plt.hist(gender2['avg_glucose_level'])\n",
        "plt.show()\n",
        "\n",
        "plt.hist(gender3['avg_glucose_level'])\n",
        "plt.show()\n"
      ],
      "execution_count": null,
      "outputs": [
        {
          "output_type": "display_data",
          "data": {
            "image/png": "[encoded data removed]",
            "text/plain": [
              "<Figure size 432x288 with 1 Axes>"
            ]
          },
          "metadata": {
            "needs_background": "light"
          }
        },
        {
          "output_type": "display_data",
          "data": {
            "image/png": "[encoded data removed]",
            "text/plain": [
              "<Figure size 432x288 with 1 Axes>"
            ]
          },
          "metadata": {
            "needs_background": "light"
          }
        },
        {
          "output_type": "display_data",
          "data": {
            "image/png": "[encoded data removed]",
            "text/plain": [
              "<Figure size 432x288 with 1 Axes>"
            ]
          },
          "metadata": {
            "needs_background": "light"
          }
        }
      ]
    },
    {
      "cell_type": "code",
      "metadata": {
        "id": "AEHob_5QAOkA"
      },
      "source": [
        "smoking_status1 = df[df['smoking_status'] == 'formerly smoked']\n",
        "smoking_status2 = df[df['smoking_status'] == 'smokes']\n",
        "smoking_status3 = df[df['smoking_status'] == 'never smoked']"
      ],
      "execution_count": null,
      "outputs": []
    },
    {
      "cell_type": "code",
      "metadata": {
        "colab": {
          "base_uri": "https://localhost:8080/",
          "height": 761
        },
        "id": "2nNX4t2_BEI5",
        "outputId": "b7365e22-07fa-492a-a17f-e84733576299"
      },
      "source": [
        "plt.hist(smoking_status1['avg_glucose_level'])\n",
        "plt.show()\n",
        "\n",
        "plt.hist(smoking_status2['avg_glucose_level'])\n",
        "plt.show()\n",
        "\n",
        "plt.hist(smoking_status3['avg_glucose_level'])\n",
        "plt.show()"
      ],
      "execution_count": null,
      "outputs": [
        {
          "output_type": "display_data",
          "data": {
            "image/png": "[encoded data removed]",
            "text/plain": [
              "<Figure size 432x288 with 1 Axes>"
            ]
          },
          "metadata": {
            "needs_background": "light"
          }
        },
        {
          "output_type": "display_data",
          "data": {
            "image/png": "[encoded data removed]",
            "text/plain": [
              "<Figure size 432x288 with 1 Axes>"
            ]
          },
          "metadata": {
            "needs_background": "light"
          }
        },
        {
          "output_type": "display_data",
          "data": {
            "image/png": "[encoded data removed]",
            "text/plain": [
              "<Figure size 432x288 with 1 Axes>"
            ]
          },
          "metadata": {
            "needs_background": "light"
          }
        }
      ]
    },
    {
      "cell_type": "code",
      "metadata": {
        "id": "uJbXAGBNCipf"
      },
      "source": [
        "work_type1 = df[df['work_type'] == 'Govt_job']\n",
        "work_type2 = df[df['work_type'] == 'Private']\n",
        "work_type3 = df[df['work_type'] == 'Self-employed']\n",
        "work_type4 = df[df['work_type'] == 'children']"
      ],
      "execution_count": null,
      "outputs": []
    },
    {
      "cell_type": "code",
      "metadata": {
        "colab": {
          "base_uri": "https://localhost:8080/",
          "height": 1000
        },
        "id": "QsEozTpQDEIX",
        "outputId": "ff3e7a75-409d-45d3-b7dc-c18912db774a"
      },
      "source": [
        "plt.hist(work_type1['avg_glucose_level'])\n",
        "plt.show()\n",
        "\n",
        "plt.hist(work_type2['avg_glucose_level'])\n",
        "plt.show()\n",
        "\n",
        "plt.hist(work_type3['avg_glucose_level'])\n",
        "plt.show()\n",
        "plt.hist(work_type3['avg_glucose_level'])\n",
        "plt.show()"
      ],
      "execution_count": null,
      "outputs": [
        {
          "output_type": "display_data",
          "data": {
            "image/png": "[encoded data removed]",
            "text/plain": [
              "<Figure size 432x288 with 1 Axes>"
            ]
          },
          "metadata": {
            "needs_background": "light"
          }
        },
        {
          "output_type": "display_data",
          "data": {
            "image/png": "[encoded data removed]",
            "text/plain": [
              "<Figure size 432x288 with 1 Axes>"
            ]
          },
          "metadata": {
            "needs_background": "light"
          }
        },
        {
          "output_type": "display_data",
          "data": {
            "image/png": "[encoded data removed]",
            "text/plain": [
              "<Figure size 432x288 with 1 Axes>"
            ]
          },
          "metadata": {
            "needs_background": "light"
          }
        },
        {
          "output_type": "display_data",
          "data": {
            "image/png": "[encoded data removed]",
            "text/plain": [
              "<Figure size 432x288 with 1 Axes>"
            ]
          },
          "metadata": {
            "needs_background": "light"
          }
        }
      ]
    },
    {
      "cell_type": "markdown",
      "metadata": {
        "id": "Xtx49LKbNseg"
      },
      "source": [
        "**Homogenity**\n"
      ]
    },
    {
      "cell_type": "code",
      "metadata": {
        "colab": {
          "base_uri": "https://localhost:8080/"
        },
        "id": "j2s6YSiiNvWl",
        "outputId": "c6c5f277-1cd2-472e-debd-1ffb08a3e96b"
      },
      "source": [
        "stats.bartlett(df['avg_glucose_level'][df['gender'] == 'Male'],\n",
        "               df['avg_glucose_level'][df['gender'] == 'Female'])"
      ],
      "execution_count": null,
      "outputs": [
        {
          "output_type": "execute_result",
          "data": {
            "text/plain": [
              "BartlettResult(statistic=17.84684281024991, pvalue=2.3941616405943625e-05)"
            ]
          },
          "metadata": {},
          "execution_count": 63
        }
      ]
    },
    {
      "cell_type": "code",
      "metadata": {
        "colab": {
          "base_uri": "https://localhost:8080/"
        },
        "id": "gcoPvStXP32m",
        "outputId": "6360b554-4f86-47d3-c001-d9989941fece"
      },
      "source": [
        "stats.bartlett(df['avg_glucose_level'][df['smoking_status'] == 'formerly smoked'],\n",
        "               df['avg_glucose_level'][df['smoking_status'] == 'smokes'],\n",
        "               df['avg_glucose_level'][df['smoking_status'] == 'never smoked'])"
      ],
      "execution_count": null,
      "outputs": [
        {
          "output_type": "execute_result",
          "data": {
            "text/plain": [
              "BartlettResult(statistic=16.556993178510275, pvalue=0.00025391865725707933)"
            ]
          },
          "metadata": {},
          "execution_count": 76
        }
      ]
    },
    {
      "cell_type": "code",
      "metadata": {
        "colab": {
          "base_uri": "https://localhost:8080/"
        },
        "id": "AfqRGK4xQVdt",
        "outputId": "648585cc-5d08-4fd1-9320-73dff71eef4a"
      },
      "source": [
        "stats.bartlett(df['avg_glucose_level'][df['work_type'] == 'Govt_job'],\n",
        "               df['avg_glucose_level'][df['work_type'] == 'Private'],\n",
        "               df['avg_glucose_level'][df['work_type'] == 'children'],\n",
        "               df['avg_glucose_level'][df['work_type'] == 'Self-employed'])"
      ],
      "execution_count": null,
      "outputs": [
        {
          "output_type": "execute_result",
          "data": {
            "text/plain": [
              "BartlettResult(statistic=314.601104063864, pvalue=6.8775280965966e-68)"
            ]
          },
          "metadata": {},
          "execution_count": 77
        }
      ]
    },
    {
      "cell_type": "markdown",
      "metadata": {
        "id": "fZk-ICqwspTy"
      },
      "source": [
        "# **ANOVA TESTS**\n",
        "\n",
        "### > Below we are comparing the effect of multiple variables on the average glucose level\n",
        "\n"
      ]
    },
    {
      "cell_type": "code",
      "metadata": {
        "colab": {
          "base_uri": "https://localhost:8080/"
        },
        "id": "A6RsDj7Myv0U",
        "outputId": "0b2909b4-efdf-4a46-96d6-c9979a8b108c"
      },
      "source": [
        "stats.f_oneway(df['avg_glucose_level'][df['gender'] == 'Female'],\n",
        "               df['avg_glucose_level'][df['gender'] == 'Male'],\n",
        "               df['avg_glucose_level'][df['gender'] == 'Other'])"
      ],
      "execution_count": null,
      "outputs": [
        {
          "output_type": "execute_result",
          "data": {
            "text/plain": [
              "F_onewayResult(statistic=8.00753303784083, pvalue=0.00033714286225650867)"
            ]
          },
          "metadata": {},
          "execution_count": 36
        }
      ]
    },
    {
      "cell_type": "markdown",
      "metadata": {
        "id": "pY-kwC5BskLU"
      },
      "source": [
        "The result above (p<0.05) indicates that there is a significant difference in average glucose level among the different genders\n",
        "\n",
        "\n",
        "\n"
      ]
    },
    {
      "cell_type": "code",
      "metadata": {
        "colab": {
          "base_uri": "https://localhost:8080/"
        },
        "id": "OilUulcKtt9i",
        "outputId": "918dc499-129f-41a0-ec03-3a8c70b24661"
      },
      "source": [
        "stats.f_oneway(df['avg_glucose_level'][df['smoking_status'] == 'formerly smoked'],\n",
        "               df['avg_glucose_level'][df['smoking_status'] == 'smokes'],\n",
        "               df['avg_glucose_level'][df['smoking_status'] == 'never smoked'])"
      ],
      "execution_count": null,
      "outputs": [
        {
          "output_type": "execute_result",
          "data": {
            "text/plain": [
              "F_onewayResult(statistic=3.878053776374909, pvalue=0.02077844918635327)"
            ]
          },
          "metadata": {},
          "execution_count": 51
        }
      ]
    },
    {
      "cell_type": "markdown",
      "metadata": {
        "id": "jEZ3NhKAurSy"
      },
      "source": [
        "The result above (p<0.05) indicates that there is a\n",
        "significant difference in average glucose level and smoking \n",
        "status because we are unable to reject the null hypothesis\n"
      ]
    },
    {
      "cell_type": "code",
      "metadata": {
        "colab": {
          "base_uri": "https://localhost:8080/"
        },
        "id": "hPp7OjKE4mrq",
        "outputId": "9aa0eead-7e15-44ba-9698-e74ac9491fc4"
      },
      "source": [
        "stats.f_oneway(df['avg_glucose_level'][df['work_type'] == 'Govt_job'],\n",
        "               df['avg_glucose_level'][df['work_type'] == 'Private'],\n",
        "               df['avg_glucose_level'][df['work_type'] == 'children'],\n",
        "               df['avg_glucose_level'][df['work_type'] == 'Self-employed'])\n",
        "              "
      ],
      "execution_count": null,
      "outputs": [
        {
          "output_type": "execute_result",
          "data": {
            "text/plain": [
              "F_onewayResult(statistic=21.725211832308396, pvalue=5.623859126247057e-14)"
            ]
          },
          "metadata": {},
          "execution_count": 60
        }
      ]
    },
    {
      "cell_type": "markdown",
      "metadata": {
        "id": "vhlnRieM_P9r"
      },
      "source": [
        "This indicates that there is significant difference in average glucose level and type of job because the p-value is less than 0.05, which allows us to reject the null hypothesis "
      ]
    },
    {
      "cell_type": "markdown",
      "metadata": {
        "id": "hy1zmt4I3scN"
      },
      "source": [
        "# ** Post-Hoc Tests**"
      ]
    },
    {
      "cell_type": "code",
      "metadata": {
        "id": "SiqwDT8SDYcZ"
      },
      "source": [
        "comp = mc.MultiComparison(df['avg_glucose_level'], df['gender'])\n",
        "post_hoc_res = comp.tukeyhsd()\n",
        "tukey1way = pd.DataFrame(post_hoc_res.summary())\n"
      ],
      "execution_count": null,
      "outputs": []
    },
    {
      "cell_type": "code",
      "metadata": {
        "colab": {
          "base_uri": "https://localhost:8080/"
        },
        "id": "c2Y1OHNWHJrL",
        "outputId": "fe9d7c27-0f65-489c-e912-86f7a195b0c1"
      },
      "source": [
        "print(post_hoc_res)"
      ],
      "execution_count": null,
      "outputs": [
        {
          "output_type": "stream",
          "name": "stdout",
          "text": [
            " Multiple Comparison of Means - Tukey HSD, FWER=0.05  \n",
            "======================================================\n",
            "group1 group2 meandiff p-adj   lower    upper   reject\n",
            "------------------------------------------------------\n",
            "Female   Male   5.0307  0.001   2.0193   8.0421   True\n",
            "Female  Other  39.2722 0.6468 -66.7629 145.3073  False\n",
            "  Male  Other  34.2415 0.7105 -71.8009 140.2839  False\n",
            "------------------------------------------------------\n"
          ]
        }
      ]
    },
    {
      "cell_type": "code",
      "metadata": {
        "colab": {
          "base_uri": "https://localhost:8080/"
        },
        "id": "-8wekARxHoPy",
        "outputId": "be62f865-d46c-49fb-ab3e-9e0e9dde7373"
      },
      "source": [
        "print(tukey1way)"
      ],
      "execution_count": null,
      "outputs": [
        {
          "output_type": "stream",
          "name": "stdout",
          "text": [
            "        0       1         2       3         4         5       6\n",
            "0  group1  group2  meandiff   p-adj     lower     upper  reject\n",
            "1  Female    Male    5.0307   0.001    2.0193    8.0421    True\n",
            "2  Female   Other   39.2722  0.6468  -66.7629  145.3073   False\n",
            "3    Male   Other   34.2415  0.7105  -71.8009  140.2839   False\n"
          ]
        }
      ]
    },
    {
      "cell_type": "code",
      "metadata": {
        "colab": {
          "base_uri": "https://localhost:8080/",
          "height": 173
        },
        "id": "fWOoQRYiZaFS",
        "outputId": "15fc27ed-b7d4-4b88-ac90-80b4d6c3bde7"
      },
      "source": [
        "df[[\"gender\", \"avg_glucose_level\"]].groupby(\"gender\").mean()"
      ],
      "execution_count": null,
      "outputs": [
        {
          "output_type": "execute_result",
          "data": {
            "text/html": [
              "<div>\n",
              "<style scoped>\n",
              "    .dataframe tbody tr th:only-of-type {\n",
              "        vertical-align: middle;\n",
              "    }\n",
              "\n",
              "    .dataframe tbody tr th {\n",
              "        vertical-align: top;\n",
              "    }\n",
              "\n",
              "    .dataframe thead th {\n",
              "        text-align: right;\n",
              "    }\n",
              "</style>\n",
              "<table border=\"1\" class=\"dataframe\">\n",
              "  <thead>\n",
              "    <tr style=\"text-align: right;\">\n",
              "      <th></th>\n",
              "      <th>avg_glucose_level</th>\n",
              "    </tr>\n",
              "    <tr>\n",
              "      <th>gender</th>\n",
              "      <th></th>\n",
              "    </tr>\n",
              "  </thead>\n",
              "  <tbody>\n",
              "    <tr>\n",
              "      <th>Female</th>\n",
              "      <td>104.057809</td>\n",
              "    </tr>\n",
              "    <tr>\n",
              "      <th>Male</th>\n",
              "      <td>109.088520</td>\n",
              "    </tr>\n",
              "    <tr>\n",
              "      <th>Other</th>\n",
              "      <td>143.330000</td>\n",
              "    </tr>\n",
              "  </tbody>\n",
              "</table>\n",
              "</div>"
            ],
            "text/plain": [
              "        avg_glucose_level\n",
              "gender                   \n",
              "Female         104.057809\n",
              "Male           109.088520\n",
              "Other          143.330000"
            ]
          },
          "metadata": {},
          "execution_count": 84
        }
      ]
    },
    {
      "cell_type": "markdown",
      "metadata": {
        "id": "uD5dZQHnZfsq"
      },
      "source": [
        "Based on the above results, there is an statistically significant difference in average glucose level between males and females\n",
        "The mean difference is 5.0307"
      ]
    },
    {
      "cell_type": "code",
      "metadata": {
        "id": "90fbjE3dH6ls"
      },
      "source": [
        "comp = mc.MultiComparison(df['avg_glucose_level'], df['smoking_status'])\n",
        "post_hoc_res1 = comp.tukeyhsd()\n",
        "tukey1way1 = pd.DataFrame(post_hoc_res1.summary())"
      ],
      "execution_count": null,
      "outputs": []
    },
    {
      "cell_type": "code",
      "metadata": {
        "colab": {
          "base_uri": "https://localhost:8080/"
        },
        "id": "rybUyG-oIJtF",
        "outputId": "70c7269a-b788-498e-e3d3-cc9e724dc1e0"
      },
      "source": [
        "print(post_hoc_res1)"
      ],
      "execution_count": null,
      "outputs": [
        {
          "output_type": "stream",
          "name": "stdout",
          "text": [
            "          Multiple Comparison of Means - Tukey HSD, FWER=0.05          \n",
            "=======================================================================\n",
            "     group1          group2     meandiff p-adj   lower    upper  reject\n",
            "-----------------------------------------------------------------------\n",
            "        Unknown formerly smoked  13.2845  0.001   8.4031  18.166   True\n",
            "        Unknown    never smoked   7.9566  0.001   3.9858 11.9273   True\n",
            "        Unknown          smokes   8.4159  0.001   3.3492 13.4826   True\n",
            "formerly smoked    never smoked   -5.328 0.0194  -10.043  -0.613   True\n",
            "formerly smoked          smokes  -4.8686 0.1216 -10.5375  0.8002  False\n",
            "   never smoked          smokes   0.4593    0.9  -4.4472  5.3659  False\n",
            "-----------------------------------------------------------------------\n"
          ]
        }
      ]
    },
    {
      "cell_type": "code",
      "metadata": {
        "colab": {
          "base_uri": "https://localhost:8080/"
        },
        "id": "67Vf-7LJIm9a",
        "outputId": "bb412bd4-1b32-4082-e6af-9081a364c350"
      },
      "source": [
        "print(tukey1way1)"
      ],
      "execution_count": null,
      "outputs": [
        {
          "output_type": "stream",
          "name": "stdout",
          "text": [
            "                 0                1         2  ...         4        5       6\n",
            "0           group1           group2  meandiff  ...     lower    upper  reject\n",
            "1          Unknown  formerly smoked   13.2845  ...    8.4031   18.166    True\n",
            "2          Unknown     never smoked    7.9566  ...    3.9858  11.9273    True\n",
            "3          Unknown           smokes    8.4159  ...    3.3492  13.4826    True\n",
            "4  formerly smoked     never smoked    -5.328  ...   -10.043   -0.613    True\n",
            "5  formerly smoked           smokes   -4.8686  ...  -10.5375   0.8002   False\n",
            "6     never smoked           smokes    0.4593  ...   -4.4472   5.3659   False\n",
            "\n",
            "[7 rows x 7 columns]\n"
          ]
        }
      ]
    },
    {
      "cell_type": "code",
      "metadata": {
        "colab": {
          "base_uri": "https://localhost:8080/",
          "height": 204
        },
        "id": "LftutoXQb9MA",
        "outputId": "23d67ae8-5ccc-4237-f403-653edde3ee9e"
      },
      "source": [
        "df[[\"smoking_status\", \"avg_glucose_level\"]].groupby(\"smoking_status\").mean()"
      ],
      "execution_count": null,
      "outputs": [
        {
          "output_type": "execute_result",
          "data": {
            "text/html": [
              "<div>\n",
              "<style scoped>\n",
              "    .dataframe tbody tr th:only-of-type {\n",
              "        vertical-align: middle;\n",
              "    }\n",
              "\n",
              "    .dataframe tbody tr th {\n",
              "        vertical-align: top;\n",
              "    }\n",
              "\n",
              "    .dataframe thead th {\n",
              "        text-align: right;\n",
              "    }\n",
              "</style>\n",
              "<table border=\"1\" class=\"dataframe\">\n",
              "  <thead>\n",
              "    <tr style=\"text-align: right;\">\n",
              "      <th></th>\n",
              "      <th>avg_glucose_level</th>\n",
              "    </tr>\n",
              "    <tr>\n",
              "      <th>smoking_status</th>\n",
              "      <th></th>\n",
              "    </tr>\n",
              "  </thead>\n",
              "  <tbody>\n",
              "    <tr>\n",
              "      <th>Unknown</th>\n",
              "      <td>99.601541</td>\n",
              "    </tr>\n",
              "    <tr>\n",
              "      <th>formerly smoked</th>\n",
              "      <td>112.886079</td>\n",
              "    </tr>\n",
              "    <tr>\n",
              "      <th>never smoked</th>\n",
              "      <td>107.558092</td>\n",
              "    </tr>\n",
              "    <tr>\n",
              "      <th>smokes</th>\n",
              "      <td>108.017440</td>\n",
              "    </tr>\n",
              "  </tbody>\n",
              "</table>\n",
              "</div>"
            ],
            "text/plain": [
              "                 avg_glucose_level\n",
              "smoking_status                    \n",
              "Unknown                  99.601541\n",
              "formerly smoked         112.886079\n",
              "never smoked            107.558092\n",
              "smokes                  108.017440"
            ]
          },
          "metadata": {},
          "execution_count": 85
        }
      ]
    },
    {
      "cell_type": "markdown",
      "metadata": {
        "id": "X6IpvKSgcY9X"
      },
      "source": [
        "There is an statistically significant difference in average glucose level between participants with a smoking status of:\n",
        "\n",
        "\n",
        "\n",
        "\n",
        "\n",
        "1.  Unknown and formerly smoked- Mean diff=13.2845\n",
        "2.   Unknown and never smoked-Mean diff =7.95\n",
        "1.  Unknown and smokes- Mean diff = 8.4159\n",
        "2.  Formerly smoked and never smoked-Mean diff = -5.328\n",
        "\n",
        "\n",
        "\n"
      ]
    },
    {
      "cell_type": "code",
      "metadata": {
        "id": "GDhaYuc4JFK5"
      },
      "source": [
        "comp = mc.MultiComparison(df['avg_glucose_level'], df['work_type'])\n",
        "post_hoc_res2 = comp.tukeyhsd()\n",
        "tukey1way2 = pd.DataFrame(post_hoc_res2.summary())"
      ],
      "execution_count": null,
      "outputs": []
    },
    {
      "cell_type": "code",
      "metadata": {
        "colab": {
          "base_uri": "https://localhost:8080/"
        },
        "id": "ER7WQhTvJQhB",
        "outputId": "ecb6047c-8ced-43b8-e1f9-09524cb7deb0"
      },
      "source": [
        "print(post_hoc_res2)"
      ],
      "execution_count": null,
      "outputs": [
        {
          "output_type": "stream",
          "name": "stdout",
          "text": [
            "        Multiple Comparison of Means - Tukey HSD, FWER=0.05         \n",
            "====================================================================\n",
            "    group1        group2    meandiff p-adj   lower    upper   reject\n",
            "--------------------------------------------------------------------\n",
            "     Govt_job  Never_worked  -11.737 0.7225 -38.3568  14.8827  False\n",
            "     Govt_job       Private  -0.9829    0.9  -6.2854   4.3196  False\n",
            "     Govt_job Self-employed   4.8657  0.236  -1.5669  11.2982  False\n",
            "     Govt_job      children -13.3795  0.001 -20.0815  -6.6775   True\n",
            " Never_worked       Private  10.7541 0.7717 -15.5291  37.0374  False\n",
            " Never_worked Self-employed  16.6027 0.4311  -9.9316   43.137  False\n",
            " Never_worked      children  -1.6425    0.9 -28.2434  24.9585  False\n",
            "      Private Self-employed   5.8486  0.009   0.9932   10.704   True\n",
            "      Private      children -12.3966  0.001 -17.6037  -7.1895   True\n",
            "Self-employed      children -18.2452  0.001 -24.5993 -11.8911   True\n",
            "--------------------------------------------------------------------\n"
          ]
        }
      ]
    },
    {
      "cell_type": "code",
      "metadata": {
        "colab": {
          "base_uri": "https://localhost:8080/"
        },
        "id": "9JOLExCdKj3v",
        "outputId": "3b132548-1244-4271-f8ee-9ef473c2c72a"
      },
      "source": [
        "print(tukey1way2)"
      ],
      "execution_count": null,
      "outputs": [
        {
          "output_type": "stream",
          "name": "stdout",
          "text": [
            "                0              1         2       3         4         5       6\n",
            "0          group1         group2  meandiff   p-adj     lower     upper  reject\n",
            "1        Govt_job   Never_worked   -11.737  0.7225  -38.3568   14.8827   False\n",
            "2        Govt_job        Private   -0.9829     0.9   -6.2854    4.3196   False\n",
            "3        Govt_job  Self-employed    4.8657   0.236   -1.5669   11.2982   False\n",
            "4        Govt_job       children  -13.3795   0.001  -20.0815   -6.6775    True\n",
            "5    Never_worked        Private   10.7541  0.7717  -15.5291   37.0374   False\n",
            "6    Never_worked  Self-employed   16.6027  0.4311   -9.9316    43.137   False\n",
            "7    Never_worked       children   -1.6425     0.9  -28.2434   24.9585   False\n",
            "8         Private  Self-employed    5.8486   0.009    0.9932    10.704    True\n",
            "9         Private       children  -12.3966   0.001  -17.6037   -7.1895    True\n",
            "10  Self-employed       children  -18.2452   0.001  -24.5993  -11.8911    True\n"
          ]
        }
      ]
    },
    {
      "cell_type": "code",
      "metadata": {
        "colab": {
          "base_uri": "https://localhost:8080/",
          "height": 235
        },
        "id": "h6aSDzObdIlQ",
        "outputId": "9ad95837-ac8a-473d-cf94-a428e21e4049"
      },
      "source": [
        "df[[\"work_type\", \"avg_glucose_level\"]].groupby(\"work_type\").mean()"
      ],
      "execution_count": null,
      "outputs": [
        {
          "output_type": "execute_result",
          "data": {
            "text/html": [
              "<div>\n",
              "<style scoped>\n",
              "    .dataframe tbody tr th:only-of-type {\n",
              "        vertical-align: middle;\n",
              "    }\n",
              "\n",
              "    .dataframe tbody tr th {\n",
              "        vertical-align: top;\n",
              "    }\n",
              "\n",
              "    .dataframe thead th {\n",
              "        text-align: right;\n",
              "    }\n",
              "</style>\n",
              "<table border=\"1\" class=\"dataframe\">\n",
              "  <thead>\n",
              "    <tr style=\"text-align: right;\">\n",
              "      <th></th>\n",
              "      <th>avg_glucose_level</th>\n",
              "    </tr>\n",
              "    <tr>\n",
              "      <th>work_type</th>\n",
              "      <th></th>\n",
              "    </tr>\n",
              "  </thead>\n",
              "  <tbody>\n",
              "    <tr>\n",
              "      <th>Govt_job</th>\n",
              "      <td>107.779772</td>\n",
              "    </tr>\n",
              "    <tr>\n",
              "      <th>Never_worked</th>\n",
              "      <td>96.042727</td>\n",
              "    </tr>\n",
              "    <tr>\n",
              "      <th>Private</th>\n",
              "      <td>106.796844</td>\n",
              "    </tr>\n",
              "    <tr>\n",
              "      <th>Self-employed</th>\n",
              "      <td>112.645446</td>\n",
              "    </tr>\n",
              "    <tr>\n",
              "      <th>children</th>\n",
              "      <td>94.400277</td>\n",
              "    </tr>\n",
              "  </tbody>\n",
              "</table>\n",
              "</div>"
            ],
            "text/plain": [
              "               avg_glucose_level\n",
              "work_type                       \n",
              "Govt_job              107.779772\n",
              "Never_worked           96.042727\n",
              "Private               106.796844\n",
              "Self-employed         112.645446\n",
              "children               94.400277"
            ]
          },
          "metadata": {},
          "execution_count": 86
        }
      ]
    },
    {
      "cell_type": "markdown",
      "metadata": {
        "id": "b9KqdpfXdgB4"
      },
      "source": [
        "The results shown above show a significant difference in average glucose levels based on type of job in the following groups\n",
        "\n",
        "\n",
        "1.   Government job and children=-13.3795\n",
        "2.   Private and self-employed=5.8486\n",
        "\n",
        "1.   Private and children=-12.3966\n",
        "2.   Self-employed and children =-18.2452\n",
        "\n",
        "\n",
        "\n",
        "\n"
      ]
    }
  ]
}